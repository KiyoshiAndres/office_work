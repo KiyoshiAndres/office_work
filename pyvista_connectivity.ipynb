{
 "cells": [
  {
   "cell_type": "code",
   "execution_count": 14,
   "id": "cc1d0621-af69-4125-8a61-39026826ba9c",
   "metadata": {},
   "outputs": [],
   "source": [
    "import nrrd\n",
    "import numpy as np\n",
    "import pandas as pd\n",
    "import pyvista as pv\n",
    "from skimage.morphology import area_closing"
   ]
  },
  {
   "cell_type": "code",
   "execution_count": 9,
   "id": "81c23619-5f3b-422a-b050-a564eaaec69d",
   "metadata": {},
   "outputs": [],
   "source": [
    "folder_path = './pre_lung_segmentations/'"
   ]
  },
  {
   "cell_type": "code",
   "execution_count": 6,
   "id": "203f86c3-ac9c-49cd-bbe1-cb606808c1ea",
   "metadata": {},
   "outputs": [],
   "source": [
    "file_name = 'Lung segmentation-AI-10.seg.nrrd'"
   ]
  },
  {
   "cell_type": "code",
   "execution_count": 10,
   "id": "d96d720a-0d6d-415f-8bb3-519ae0ef381d",
   "metadata": {},
   "outputs": [],
   "source": [
    "data, header = nrrd.read( folder_path + file_name )"
   ]
  },
  {
   "cell_type": "code",
   "execution_count": 11,
   "id": "771c3c63-86c2-4092-bf9b-6dc95c2e05d5",
   "metadata": {},
   "outputs": [],
   "source": [
    "masks = {}\n",
    "for i in range(data.shape[0]):\n",
    "    seg_id = header.get(f\"Segment{i}_ID\")\n",
    "    label_val = int(header.get(f\"Segment{i}_LabelValue\"))\n",
    "    mask = data[i] == label_val\n",
    "    masks[seg_id] = mask"
   ]
  },
  {
   "cell_type": "code",
   "execution_count": 12,
   "id": "1cf15c89-5b9d-4be7-9586-17753a670dcc",
   "metadata": {},
   "outputs": [],
   "source": [
    "### Marching Cubes"
   ]
  },
  {
   "cell_type": "code",
   "execution_count": 15,
   "id": "5e3acb56-9d83-4201-a93a-498859610031",
   "metadata": {},
   "outputs": [],
   "source": [
    "# Volume data\n",
    "lungs_data = masks['lungs']\n",
    "filled = area_closing(lungs_data, area_threshold=10, connectivity=3)\n",
    "# fills the 1-voxel and 8-voxel cavities (threshold is in voxels)"
   ]
  },
  {
   "cell_type": "code",
   "execution_count": 16,
   "id": "bab34966-621b-4306-a566-d91741ea960f",
   "metadata": {},
   "outputs": [
    {
     "data": {
      "application/vnd.jupyter.widget-view+json": {
       "model_id": "a82617c547434c7a91fa7df0274f82dd",
       "version_major": 2,
       "version_minor": 0
      },
      "text/plain": [
       "Widget(value='<iframe src=\"http://localhost:43459/index.html?ui=P_0x731f3c7260c0_0&reconnect=auto\" class=\"pyvi…"
      ]
     },
     "metadata": {},
     "output_type": "display_data"
    }
   ],
   "source": [
    "def view_boolean_mask(mask: np.ndarray,\n",
    "                      spacing=(1.0, 1.0, 1.0),\n",
    "                      origin=(0.0, 0.0, 0.0),\n",
    "                      mode=\"surface\",   # \"surface\" or \"volume\"\n",
    "                      iso=0.5):\n",
    "    \"\"\"\n",
    "    Visualize a 3D boolean mask with PyVista.\n",
    "    Assumes mask shape is (z, y, x). If yours is (x, y, z), set transpose=False below.\n",
    "    \"\"\"\n",
    "    assert mask.ndim == 3, f\"Expected 3D, got {mask.shape}\"\n",
    "    # Convert to uint8: False->0 (empty), True->1 (filled)\n",
    "    scalars_zyx = mask.astype(np.uint8)\n",
    "\n",
    "    # VTK expects (x, y, z) with Fortran-order ravel; transpose from (z,y,x) -> (x,y,z)\n",
    "    vol_xyz = np.transpose(scalars_zyx, (2, 1, 0))\n",
    "    nx, ny, nz = vol_xyz.shape\n",
    "\n",
    "    img = pv.ImageData()\n",
    "    img.dimensions = (nx, ny, nz)\n",
    "    img.origin = origin          # physical location of (0,0,0)\n",
    "    img.spacing = spacing        # voxel size (dx, dy, dz)\n",
    "    img.point_data[\"labels\"] = vol_xyz.ravel(order=\"F\")\n",
    "\n",
    "    pl = pv.Plotter(window_size=(1000, 800))\n",
    "    if mode == \"volume\":\n",
    "        # Make zeros transparent, ones visible\n",
    "        # (keep it simple; adjust if too faint/opaque)\n",
    "        opacity = [0.0, 0.0, 0.2, 0.6, 1.0]\n",
    "        pl.add_volume(img, scalars=\"labels\", shade=False, opacity=opacity)\n",
    "    else:\n",
    "        \n",
    "        print(\"this happened!\")\n",
    "        # Extract a surface around the filled region\n",
    "        surf = img.contour([iso], method='marching_cubes').compute_normals(\n",
    "            auto_orient_normals=True, feature_angle=60.0\n",
    "        )\n",
    "        pl.add_mesh(surf, opacity=1.0, specular=0.15)\n",
    "        \n",
    "        arrow_len = 0.01 * np.linalg.norm(surf.length)\n",
    "        arrows = surf.glyph(orient=\"Normals\", scale=False, factor=arrow_len)\n",
    "        #pl.add_mesh(arrows, color=\"tomato\")\n",
    "\n",
    "    pl.add_axes(); pl.show_grid()\n",
    "    pl.camera.zoom(1.2)\n",
    "    pl.show()\n",
    "\n",
    "# Example:\n",
    "mask = lungs_data\n",
    "#view_boolean_mask(mask, spacing=(1,1,1), mode=\"surface\")\n",
    "view_boolean_mask(mask, mode=\"volume\")"
   ]
  }
 ],
 "metadata": {
  "kernelspec": {
   "display_name": "Python 3 (ipykernel)",
   "language": "python",
   "name": "python3"
  },
  "language_info": {
   "codemirror_mode": {
    "name": "ipython",
    "version": 3
   },
   "file_extension": ".py",
   "mimetype": "text/x-python",
   "name": "python",
   "nbconvert_exporter": "python",
   "pygments_lexer": "ipython3",
   "version": "3.12.3"
  }
 },
 "nbformat": 4,
 "nbformat_minor": 5
}
