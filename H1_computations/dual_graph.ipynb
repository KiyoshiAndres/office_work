{
 "cells": [
  {
   "cell_type": "code",
   "execution_count": 2,
   "id": "941a45a4-c620-424b-a61a-018333fd6baa",
   "metadata": {},
   "outputs": [],
   "source": [
    "import numpy as np\n",
    "import pyvista as pv"
   ]
  },
  {
   "cell_type": "code",
   "execution_count": 1,
   "id": "f9cee6cf-650e-4fe6-a728-9ef948e066ad",
   "metadata": {},
   "outputs": [],
   "source": [
    "vertices = [0, 1, 2, 3, 4, 5, 6, 7, 8]\n",
    "edges = [\n",
    " (0,1), (0,2), (0,3), (0,4), (0,6), (0,8),\n",
    " (1,2), (1,4), (1,5), (1,6), (1,7),\n",
    " (2,3), (2,5), (2,7), (2,8),\n",
    " (3,4), (3,5), (3,6), (3,7),\n",
    " (4,5), (4,7), (4,8),\n",
    " (5,6), (5,8),\n",
    " (6,7), (6,8),\n",
    " (7,8)\n",
    "]\n",
    "\n",
    "faces = [\n",
    " (0,1,4), (0,4,3),\n",
    " (1,2,5), (1,5,4),\n",
    " (2,0,3), (2,3,5),\n",
    " (3,4,7), (3,7,6),\n",
    " (4,5,8), (4,8,7),\n",
    " (5,3,6), (5,6,8),\n",
    " (6,7,1), (6,1,0),\n",
    " (7,8,2), (7,2,1),\n",
    " (8,6,0), (8,0,2)\n",
    "]"
   ]
  },
  {
   "cell_type": "code",
   "execution_count": 4,
   "id": "6f2adfe4-027f-4b66-8740-6ec6b71949d2",
   "metadata": {},
   "outputs": [
    {
     "data": {
      "application/vnd.jupyter.widget-view+json": {
       "model_id": "2047976e8240436593e414255f6f5dd1",
       "version_major": 2,
       "version_minor": 0
      },
      "text/plain": [
       "Widget(value='<iframe src=\"http://localhost:45819/index.html?ui=P_0x7ccf38de7710_0&reconnect=auto\" class=\"pyvi…"
      ]
     },
     "metadata": {},
     "output_type": "display_data"
    }
   ],
   "source": [
    "R, r = 2.0, 0.8  # major/minor radii of the torus\n",
    "coords = []\n",
    "for i in range(3):\n",
    "    u = 2*np.pi*i/3\n",
    "    for j in range(3):\n",
    "        v = 2*np.pi*j/3\n",
    "        x = (R + r*np.cos(v)) * np.cos(u)\n",
    "        y = (R + r*np.cos(v)) * np.sin(u)\n",
    "        z = r*np.sin(v)\n",
    "        coords.append([x, y, z])\n",
    "points = np.array(coords)\n",
    "\n",
    "# PyVista expects a flat array: [3, i,j,k, 3, ...] for triangles\n",
    "cells = []\n",
    "for a,b,c in faces:\n",
    "    cells.extend([3, a, b, c])\n",
    "cells = np.array(cells, dtype=np.int64)\n",
    "\n",
    "mesh = pv.PolyData(points)\n",
    "mesh.faces = cells\n",
    "\n",
    "# Optional: show edges & smooth shading\n",
    "plotter = pv.Plotter()\n",
    "plotter.add_mesh(mesh, show_edges=True, smooth_shading=True)\n",
    "plotter.add_axes()\n",
    "plotter.show_grid()\n",
    "plotter.show()"
   ]
  },
  {
   "cell_type": "code",
   "execution_count": null,
   "id": "79641857-3cb7-49a7-9d3e-d67cb9c941d2",
   "metadata": {},
   "outputs": [],
   "source": []
  }
 ],
 "metadata": {
  "kernelspec": {
   "display_name": "Python 3 (ipykernel)",
   "language": "python",
   "name": "python3"
  },
  "language_info": {
   "codemirror_mode": {
    "name": "ipython",
    "version": 3
   },
   "file_extension": ".py",
   "mimetype": "text/x-python",
   "name": "python",
   "nbconvert_exporter": "python",
   "pygments_lexer": "ipython3",
   "version": "3.12.3"
  }
 },
 "nbformat": 4,
 "nbformat_minor": 5
}
