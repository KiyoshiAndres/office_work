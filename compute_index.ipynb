{
 "cells": [
  {
   "cell_type": "markdown",
   "id": "ec4a76f4-8fb1-4c68-855e-0c40db463633",
   "metadata": {},
   "source": [
    "### Computing the Index of a Critical Point\n",
    "\n",
    "Given a critical point, we want to compute its index. There are subtle properties we need to consider."
   ]
  },
  {
   "cell_type": "markdown",
   "id": "a2b2f4e4-b305-44c7-b831-e68aabc3608b",
   "metadata": {},
   "source": [
    "For zeroth persistence, in other words the connected components:\n",
    "\n",
    "- Births may only be minima.\n",
    "\n",
    "- Deaths, which are mergers might be saddles."
   ]
  },
  {
   "cell_type": "code",
   "execution_count": null,
   "id": "ab7828ae-35d4-4d98-85cd-4a4de46549b6",
   "metadata": {},
   "outputs": [],
   "source": []
  }
 ],
 "metadata": {
  "kernelspec": {
   "display_name": "Python 3 (ipykernel)",
   "language": "python",
   "name": "python3"
  },
  "language_info": {
   "codemirror_mode": {
    "name": "ipython",
    "version": 3
   },
   "file_extension": ".py",
   "mimetype": "text/x-python",
   "name": "python",
   "nbconvert_exporter": "python",
   "pygments_lexer": "ipython3",
   "version": "3.12.3"
  }
 },
 "nbformat": 4,
 "nbformat_minor": 5
}
